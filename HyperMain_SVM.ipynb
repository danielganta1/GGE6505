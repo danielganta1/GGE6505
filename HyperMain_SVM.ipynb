{
  "nbformat": 4,
  "nbformat_minor": 0,
  "metadata": {
    "colab": {
      "provenance": [],
      "authorship_tag": "ABX9TyO1IEdBQqBLe+lOE5JgLRrd",
      "include_colab_link": true
    },
    "kernelspec": {
      "name": "python3",
      "display_name": "Python 3"
    },
    "language_info": {
      "name": "python"
    }
  },
  "cells": [
    {
      "cell_type": "markdown",
      "metadata": {
        "id": "view-in-github",
        "colab_type": "text"
      },
      "source": [
        "<a href=\"https://colab.research.google.com/github/danielganta1/GGE6505/blob/main/HyperMain_SVM.ipynb\" target=\"_parent\"><img src=\"https://colab.research.google.com/assets/colab-badge.svg\" alt=\"Open In Colab\"/></a>"
      ]
    },
    {
      "cell_type": "code",
      "source": [
        "import cv2\n",
        "import numpy as np\n",
        "from sklearn import svm\n",
        "from sklearn.model_selection import train_test_split\n",
        "from sklearn.metrics import accuracy_score, precision_score, recall_score, f1_score, classification_report\n",
        "import os\n",
        "\n",
        "# Set up the folder path and lists to hold the image data and labels\n",
        "folder_path = '/content/Green'\n",
        "X = []\n",
        "y = []\n",
        "\n",
        "# Loop through each file in the folder and load the image and label data\n",
        "for file_name in os.listdir(folder_path):\n",
        "  if file_name.endswith('.png') or file_name.endswith('.jpg'):\n",
        "    r_img = cv2.imread(os.path.join(folder_path, file_name))\n",
        "    img = cv2.resize(r_img, (256, 256))\n",
        "    hsv = cv2.cvtColor(img, cv2.COLOR_BGR2HSV)\n",
        "    lower_green = np.array([36, 25, 25])\n",
        "    upper_green = np.array([86, 255, 255])\n",
        "    mask = cv2.inRange(hsv, lower_green, upper_green)\n",
        "    X.append(hsv.reshape((-1, 3)))\n",
        "    y.append(mask.flatten())\n",
        "\n",
        "# Concatenate the image and label data into training and testing arrays\n",
        "X_train, X_test, y_train, y_test = train_test_split(np.concatenate(X, axis=0), np.concatenate(y, axis=0), test_size=0.2, random_state=42)\n",
        "\n",
        "# Train an SVM classifier\n",
        "clf = svm.SVC()\n",
        "clf.fit(X_train, y_train)\n",
        "\n",
        "# Use the classifier to predict the labels for the test data\n",
        "y_pred = clf.predict(X_test)\n",
        "\n",
        "# Calculate the evaluation metrics for the model\n",
        "accuracy = accuracy_score(y_test, y_pred)\n",
        "precision = precision_score(y_test, y_pred, pos_label=255)\n",
        "recall = recall_score(y_test, y_pred, pos_label=255)\n",
        "f1 = f1_score(y_test, y_pred, pos_label=255)\n",
        "report = classification_report(y_test, y_pred)\n",
        "\n",
        "print('Accuracy:', accuracy)\n",
        "print('Precision:', precision)\n",
        "print('Recall:', recall)\n",
        "print('F1 Score:', f1)\n",
        "print('Classification Report:\\n', report)\n",
        "\n",
        "# Loop through each test image and use the classifier to predict the green areas\n",
        "for file_name in os.listdir(folder_path):\n",
        "  if file_name.endswith('.png') or file_name.endswith('.jpg'):\n",
        "    img = cv2.imread(os.path.join(folder_path, file_name))\n",
        "    hsv = cv2.cvtColor(img, cv2.COLOR_BGR2HSV)\n",
        "    green_mask = clf.predict(hsv.reshape((-1, 3))).reshape(hsv.shape[:2])\n",
        "\n",
        "    # Calculate the percentage of green areas in the image\n",
        "    green_area_percent = np.count_nonzero(green_mask) / np.size(green_mask) * 100\n",
        "    print('Percentage of green areas in', file_name, ':', green_area_percent)\n"
      ],
      "metadata": {
        "colab": {
          "base_uri": "https://localhost:8080/"
        },
        "id": "H4Av4-7q7fFP",
        "outputId": "87c0aad1-f2ae-4e87-8273-0fca40d28b9c"
      },
      "execution_count": null,
      "outputs": [
        {
          "output_type": "stream",
          "name": "stdout",
          "text": [
            "Accuracy: 0.9996566785557611\n",
            "Precision: 0.9961629819112005\n",
            "Recall: 0.9939835916134914\n",
            "F1 Score: 0.9950720934477094\n",
            "Classification Report:\n",
            "               precision    recall  f1-score   support\n",
            "\n",
            "           0       1.00      1.00      1.00    151802\n",
            "         255       1.00      0.99      1.00      5485\n",
            "\n",
            "    accuracy                           1.00    157287\n",
            "   macro avg       1.00      1.00      1.00    157287\n",
            "weighted avg       1.00      1.00      1.00    157287\n",
            "\n",
            "Percentage of green areas in green_output-7.png : 5.001145833333333\n",
            "Percentage of green areas in output_nogreen.png : 0.0\n",
            "Percentage of green areas in green_output-4.png : 1.1520833333333333\n",
            "Percentage of green areas in output_nogreen-3.png : 0.0\n",
            "Percentage of green areas in output_nogreen-4.png : 0.0\n",
            "Percentage of green areas in green_output-8.png : 15.684062500000001\n",
            "Percentage of green areas in green_output-3.png : 4.562604166666667\n",
            "Percentage of green areas in output_nogreen-2.png : 0.0\n",
            "Percentage of green areas in green_output-2.png : 5.5784375\n",
            "Percentage of green areas in green_output-6.png : 2.7773958333333333\n",
            "Percentage of green areas in green_output-5.png : 2.0220833333333332\n",
            "Percentage of green areas in green_output.png : 1.6367708333333335\n"
          ]
        }
      ]
    }
  ]
}