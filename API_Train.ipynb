{
  "nbformat": 4,
  "nbformat_minor": 0,
  "metadata": {
    "colab": {
      "provenance": []
    },
    "kernelspec": {
      "name": "python3",
      "display_name": "Python 3"
    },
    "language_info": {
      "name": "python"
    }
  },
  "cells": [
    {
      "cell_type": "code",
      "source": [
        "pip install GeoJSON"
      ],
      "metadata": {
        "colab": {
          "base_uri": "https://localhost:8080/"
        },
        "id": "nsO0C61Vx2Lp",
        "outputId": "f74443d4-517a-4445-9996-9de931bb4831"
      },
      "execution_count": null,
      "outputs": [
        {
          "output_type": "stream",
          "name": "stdout",
          "text": [
            "Looking in indexes: https://pypi.org/simple, https://us-python.pkg.dev/colab-wheels/public/simple/\n",
            "Collecting GeoJSON\n",
            "  Downloading geojson-3.0.1-py3-none-any.whl (15 kB)\n",
            "Installing collected packages: GeoJSON\n",
            "Successfully installed GeoJSON-3.0.1\n"
          ]
        }
      ]
    },
    {
      "cell_type": "code",
      "execution_count": null,
      "metadata": {
        "id": "nIS5eFvaDoP3"
      },
      "outputs": [],
      "source": [
        "import requests\n",
        "import json"
      ]
    },
    {
      "cell_type": "code",
      "source": [
        "#code to get the co-ordinates of a place\n",
        "in_city = input(\"Enter the name of the city \")\n",
        "print(in_city)\n",
        "#inputting URL parameters through dictionary\n",
        "payload = {'name': in_city, 'apikey' : '5ae2e3f221c38a28845f05b6540ea8483e4f4f34b2f64545966718a3'}\n",
        "#passing the parameters\n",
        "res = requests.get(\"https://api.opentripmap.com/0.1/en/places/geoname?\", params = payload)\n",
        "#printing success code\n",
        "print(res.status_code)\n",
        "d_API = res.text\n",
        "d_API_json_l = json.loads(d_API)\n",
        "pretty_d_API = json.dumps(d_API_json_l,indent=2)\n",
        "print(pretty_d_API)\n",
        "parse_data = json.loads(d_API)\n",
        "i_name = parse_data['name']\n",
        "print(\"Place:\\n\", i_name)\n",
        "i_cor1 = parse_data['lat']\n",
        "i_cor2 = parse_data['lon']\n",
        "print(\"Co-ordinates:\" ,\"\\n\", i_cor1 , i_cor2)\n",
        "rad_city = input(\"Enter the radius from the city co-ordinates in metres \")\n",
        "radius_payload = {'radius': rad_city, 'lon' : i_cor2, 'lat': i_cor1, 'apikey' :'5ae2e3f221c38a28845f05b6540ea8483e4f4f34b2f64545966718a3'}\n",
        "t_radius_res = requests.get(\"https://api.opentripmap.com/0.1/en/places/radius?\", params = radius_payload)\n",
        "radius_res = t_radius_res.text\n",
        "\n",
        "listObj = []\n",
        "\n",
        "parse_radius = json.loads(radius_res)\n",
        "for fea in parse_radius['features']:\n",
        "  listObj.append({\n",
        "  \"id\": fea['id'],\n",
        "  \"coordinates\": fea['geometry']['coordinates'],\n",
        "  \"name\": fea['properties']['name'],\n",
        "  \"distance from city centre in metres\": fea['properties']['dist'],\n",
        "  \"type\": fea['properties']['kinds']\n",
        "  })\n",
        "\n",
        "#generates JSON file\n",
        "json_pdata = json.dumps(listObj, indent=4)\n",
        "with open(\"sample.json\", \"w\") as outfile:\n",
        "  outfile.write(json_pdata)\n",
        "\n"
      ],
      "metadata": {
        "colab": {
          "base_uri": "https://localhost:8080/"
        },
        "id": "SMK8D9TtNmfg",
        "outputId": "ca5d6003-b437-4de2-d524-78fddd551dc6"
      },
      "execution_count": null,
      "outputs": [
        {
          "name": "stdout",
          "output_type": "stream",
          "text": [
            "Enter the name of the city Fredericton\n",
            "Fredericton\n",
            "200\n",
            "{\n",
            "  \"name\": \"Fredericton\",\n",
            "  \"country\": \"CA\",\n",
            "  \"lat\": 45.94541,\n",
            "  \"lon\": -66.66558,\n",
            "  \"population\": 52337,\n",
            "  \"timezone\": \"America/Moncton\",\n",
            "  \"status\": \"OK\"\n",
            "}\n",
            "Place:\n",
            " Fredericton\n",
            "Co-ordinates: \n",
            " 45.94541 -66.66558\n",
            "Enter the radius from the city co-ordinates in metres 3000\n"
          ]
        }
      ]
    }
  ]
}